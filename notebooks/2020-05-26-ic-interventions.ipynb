{
 "cells": [
  {
   "cell_type": "code",
   "execution_count": 1,
   "metadata": {},
   "outputs": [],
   "source": [
    "%load_ext autoreload\n",
    "%autoreload 2"
   ]
  },
  {
   "cell_type": "code",
   "execution_count": 2,
   "metadata": {},
   "outputs": [],
   "source": [
    "%matplotlib inline"
   ]
  },
  {
   "cell_type": "code",
   "execution_count": 3,
   "metadata": {},
   "outputs": [],
   "source": [
    "import numpy as np\n",
    "import pandas as pd\n",
    "import seaborn as sns\n",
    "import matplotlib.pylab as plt"
   ]
  },
  {
   "cell_type": "code",
   "execution_count": 4,
   "metadata": {},
   "outputs": [],
   "source": [
    "from matplotlib import rcParams\n",
    "rcParams['figure.figsize'] = 15,6"
   ]
  },
  {
   "cell_type": "code",
   "execution_count": 5,
   "metadata": {},
   "outputs": [],
   "source": [
    "from src import data"
   ]
  },
  {
   "cell_type": "code",
   "execution_count": 13,
   "metadata": {},
   "outputs": [],
   "source": [
    "df = pd.read_csv(\n",
    "    f'{data.data_root}/external/imperial_college_interventions/interventions.csv',\n",
    "    parse_dates=['Date effective']\n",
    ")"
   ]
  },
  {
   "cell_type": "code",
   "execution_count": 17,
   "metadata": {},
   "outputs": [
    {
     "data": {
      "text/html": [
       "<div>\n",
       "<style scoped>\n",
       "    .dataframe tbody tr th:only-of-type {\n",
       "        vertical-align: middle;\n",
       "    }\n",
       "\n",
       "    .dataframe tbody tr th {\n",
       "        vertical-align: top;\n",
       "    }\n",
       "\n",
       "    .dataframe thead th {\n",
       "        text-align: right;\n",
       "    }\n",
       "</style>\n",
       "<table border=\"1\" class=\"dataframe\">\n",
       "  <thead>\n",
       "    <tr style=\"text-align: right;\">\n",
       "      <th></th>\n",
       "      <th>Country</th>\n",
       "      <th>Type</th>\n",
       "      <th>Event</th>\n",
       "      <th>Date effective</th>\n",
       "      <th>Link</th>\n",
       "      <th>Unnamed: 5</th>\n",
       "      <th>Unnamed: 6</th>\n",
       "    </tr>\n",
       "  </thead>\n",
       "  <tbody>\n",
       "    <tr>\n",
       "      <th>10</th>\n",
       "      <td>Denmark</td>\n",
       "      <td>Schools + Universities</td>\n",
       "      <td>Secondary schools shut and universities (prima...</td>\n",
       "      <td>2020-03-13</td>\n",
       "      <td>https://en.wikipedia.org/wiki/2020_coronavirus...</td>\n",
       "      <td>NaN</td>\n",
       "      <td>NaN</td>\n",
       "    </tr>\n",
       "    <tr>\n",
       "      <th>11</th>\n",
       "      <td>Denmark</td>\n",
       "      <td>Public events</td>\n",
       "      <td>Bans of events &gt;100 people, closes cultural in...</td>\n",
       "      <td>2020-12-03</td>\n",
       "      <td>https://nyheder.tv2.dk/samfund/2020-03-11-danm...</td>\n",
       "      <td>NaN</td>\n",
       "      <td>NaN</td>\n",
       "    </tr>\n",
       "    <tr>\n",
       "      <th>12</th>\n",
       "      <td>Denmark</td>\n",
       "      <td>Lockdown</td>\n",
       "      <td>Bans of gatherings of &gt;10 people in public and...</td>\n",
       "      <td>2020-03-18</td>\n",
       "      <td>https://nyheder.tv2.dk/samfund/2020-03-11-danm...</td>\n",
       "      <td>https://en.wikipedia.org/wiki/2020_coronavirus...</td>\n",
       "      <td>NaN</td>\n",
       "    </tr>\n",
       "    <tr>\n",
       "      <th>13</th>\n",
       "      <td>Denmark</td>\n",
       "      <td>Social distancing encouraged</td>\n",
       "      <td>Limited use of public transport. All cultural ...</td>\n",
       "      <td>2020-03-13</td>\n",
       "      <td>https://politi.dk/coronavirus-i-danmark/senest...</td>\n",
       "      <td>NaN</td>\n",
       "      <td>NaN</td>\n",
       "    </tr>\n",
       "    <tr>\n",
       "      <th>14</th>\n",
       "      <td>Denmark</td>\n",
       "      <td>Self-isolating if ill</td>\n",
       "      <td>Everyone should stay at home if experiencing a...</td>\n",
       "      <td>2020-12-03</td>\n",
       "      <td>https://stps.dk/da/ansvar-og-retningslinjer/ve...</td>\n",
       "      <td>NaN</td>\n",
       "      <td>NaN</td>\n",
       "    </tr>\n",
       "  </tbody>\n",
       "</table>\n",
       "</div>"
      ],
      "text/plain": [
       "    Country                          Type  \\\n",
       "10  Denmark        Schools + Universities   \n",
       "11  Denmark                 Public events   \n",
       "12  Denmark                      Lockdown   \n",
       "13  Denmark  Social distancing encouraged   \n",
       "14  Denmark         Self-isolating if ill   \n",
       "\n",
       "                                                Event Date effective  \\\n",
       "10  Secondary schools shut and universities (prima...     2020-03-13   \n",
       "11  Bans of events >100 people, closes cultural in...     2020-12-03   \n",
       "12  Bans of gatherings of >10 people in public and...     2020-03-18   \n",
       "13  Limited use of public transport. All cultural ...     2020-03-13   \n",
       "14  Everyone should stay at home if experiencing a...     2020-12-03   \n",
       "\n",
       "                                                 Link  \\\n",
       "10  https://en.wikipedia.org/wiki/2020_coronavirus...   \n",
       "11  https://nyheder.tv2.dk/samfund/2020-03-11-danm...   \n",
       "12  https://nyheder.tv2.dk/samfund/2020-03-11-danm...   \n",
       "13  https://politi.dk/coronavirus-i-danmark/senest...   \n",
       "14  https://stps.dk/da/ansvar-og-retningslinjer/ve...   \n",
       "\n",
       "                                           Unnamed: 5 Unnamed: 6  \n",
       "10                                                NaN        NaN  \n",
       "11                                                NaN        NaN  \n",
       "12  https://en.wikipedia.org/wiki/2020_coronavirus...        NaN  \n",
       "13                                                NaN        NaN  \n",
       "14                                                NaN        NaN  "
      ]
     },
     "execution_count": 17,
     "metadata": {},
     "output_type": "execute_result"
    }
   ],
   "source": [
    "df_dk = df[df.Country == 'Denmark']\n",
    "df_dk"
   ]
  },
  {
   "cell_type": "code",
   "execution_count": 25,
   "metadata": {},
   "outputs": [
    {
     "data": {
      "text/html": [
       "<div>\n",
       "<style scoped>\n",
       "    .dataframe tbody tr th:only-of-type {\n",
       "        vertical-align: middle;\n",
       "    }\n",
       "\n",
       "    .dataframe tbody tr th {\n",
       "        vertical-align: top;\n",
       "    }\n",
       "\n",
       "    .dataframe thead th {\n",
       "        text-align: right;\n",
       "    }\n",
       "</style>\n",
       "<table border=\"1\" class=\"dataframe\">\n",
       "  <thead>\n",
       "    <tr style=\"text-align: right;\">\n",
       "      <th></th>\n",
       "      <th>Date effective</th>\n",
       "      <th>Type</th>\n",
       "    </tr>\n",
       "  </thead>\n",
       "  <tbody>\n",
       "    <tr>\n",
       "      <th>10</th>\n",
       "      <td>2020-03-13</td>\n",
       "      <td>Schools + Universities</td>\n",
       "    </tr>\n",
       "    <tr>\n",
       "      <th>11</th>\n",
       "      <td>2020-12-03</td>\n",
       "      <td>Public events</td>\n",
       "    </tr>\n",
       "    <tr>\n",
       "      <th>12</th>\n",
       "      <td>2020-03-18</td>\n",
       "      <td>Lockdown</td>\n",
       "    </tr>\n",
       "    <tr>\n",
       "      <th>13</th>\n",
       "      <td>2020-03-13</td>\n",
       "      <td>Social distancing encouraged</td>\n",
       "    </tr>\n",
       "    <tr>\n",
       "      <th>14</th>\n",
       "      <td>2020-12-03</td>\n",
       "      <td>Self-isolating if ill</td>\n",
       "    </tr>\n",
       "  </tbody>\n",
       "</table>\n",
       "</div>"
      ],
      "text/plain": [
       "   Date effective                          Type\n",
       "10     2020-03-13        Schools + Universities\n",
       "11     2020-12-03                 Public events\n",
       "12     2020-03-18                      Lockdown\n",
       "13     2020-03-13  Social distancing encouraged\n",
       "14     2020-12-03         Self-isolating if ill"
      ]
     },
     "execution_count": 25,
     "metadata": {},
     "output_type": "execute_result"
    }
   ],
   "source": [
    "df_dk[['Date effective','Type']]"
   ]
  },
  {
   "cell_type": "code",
   "execution_count": 90,
   "metadata": {},
   "outputs": [
    {
     "data": {
      "text/plain": [
       "dict_keys(['.', 'o', 'v', '^', '<', '>', '1', '2', '3', '4', '8', 's', 'p', '*', 'h', 'H', '+', 'x', 'D', 'd', '|', '_', 'P', 'X', 0, 1, 2, 3, 4, 5, 6, 7, 8, 9, 10, 11, ','])"
      ]
     },
     "execution_count": 90,
     "metadata": {},
     "output_type": "execute_result"
    }
   ],
   "source": [
    "{'.': 'point',\n",
    " 'o': 'circle',\n",
    " 'v': 'triangle_down',\n",
    " '^': 'triangle_up',\n",
    " '<': 'triangle_left',\n",
    " '>': 'triangle_right',\n",
    " '1': 'tri_down',\n",
    " '2': 'tri_up',\n",
    " '3': 'tri_left',\n",
    " '4': 'tri_right',\n",
    " '8': 'octagon',\n",
    " 's': 'square',\n",
    " 'p': 'pentagon',\n",
    " '*': 'star',\n",
    " 'h': 'hexagon1',\n",
    " 'H': 'hexagon2',\n",
    " '+': 'plus',\n",
    " 'x': 'x',\n",
    " 'D': 'diamond',\n",
    " 'd': 'thin_diamond',\n",
    " '|': 'vline',\n",
    " '_':'hline',\n",
    " 'P': 'plus_filled',\n",
    " 'X': 'x_filled',\n",
    " 0: 'tickleft',\n",
    " 1: 'tickright',\n",
    " 2: 'tickup',\n",
    " 3:'tickdown',\n",
    " 4: 'caretleft',\n",
    " 5: 'caretright',\n",
    " 6: 'caretup',\n",
    " 7: 'caretdown',\n",
    " 8: 'caretleftbase',\n",
    " 9: 'caretrightbase',\n",
    " 10: 'caretupbase',\n",
    " 11: 'caretdownbase',\n",
    " ',': 'pixel',}.keys()\n"
   ]
  },
  {
   "cell_type": "code",
   "execution_count": 89,
   "metadata": {},
   "outputs": [
    {
     "data": {
      "text/plain": [
       "{'.': 'point',\n",
       " ',': 'pixel',\n",
       " 'o': 'circle',\n",
       " 'v': 'triangle_down',\n",
       " '^': 'triangle_up',\n",
       " '<': 'triangle_left',\n",
       " '>': 'triangle_right',\n",
       " '1': 'tri_down',\n",
       " '2': 'tri_up',\n",
       " '3': 'tri_left',\n",
       " '4': 'tri_right',\n",
       " '8': 'octagon',\n",
       " 's': 'square',\n",
       " 'p': 'pentagon',\n",
       " '*': 'star',\n",
       " 'h': 'hexagon1',\n",
       " 'H': 'hexagon2',\n",
       " '+': 'plus',\n",
       " 'x': 'x',\n",
       " 'D': 'diamond',\n",
       " 'd': 'thin_diamond',\n",
       " '|': 'vline',\n",
       " '_': 'hline',\n",
       " 'P': 'plus_filled',\n",
       " 'X': 'x_filled',\n",
       " 0: 'tickleft',\n",
       " 1: 'tickright',\n",
       " 2: 'tickup',\n",
       " 3: 'tickdown',\n",
       " 4: 'caretleft',\n",
       " 5: 'caretright',\n",
       " 6: 'caretup',\n",
       " 7: 'caretdown',\n",
       " 8: 'caretleftbase',\n",
       " 9: 'caretrightbase',\n",
       " 10: 'caretupbase',\n",
       " 11: 'caretdownbase',\n",
       " 'None': 'nothing',\n",
       " None: 'nothing',\n",
       " ' ': 'nothing',\n",
       " '': 'nothing'}"
      ]
     },
     "execution_count": 89,
     "metadata": {},
     "output_type": "execute_result"
    }
   ],
   "source": [
    "plt.Line2D.markers"
   ]
  },
  {
   "cell_type": "code",
   "execution_count": 98,
   "metadata": {},
   "outputs": [],
   "source": [
    "types = [\n",
    "    'Schools + Universities',\n",
    "     'Public events',\n",
    "     'Lockdown',\n",
    "     'Social distancing encouraged',\n",
    "     'Self-isolating if ill',\n",
    "     'Closure of cultural institutions',\n",
    "     'Closure of restaurants',\n",
    "     'Advice to work from home',\n",
    "     'Keep distance from others',\n",
    "     'Work from home',\n",
    "     'Stay at home',\n",
    "     'Public gatherings',\n",
    "]\n",
    "markers = ['.', '+', 'x', '*', 'v', '^', '<', '>',  'o', '1', '2', '3', '4', '8', 's', 'p',  'h', 'H', 'D', 'd', '|', '_', 'P', 'X', 0, 1, 2, 3, 4, 5, 6, 7, 8, 9, 10, 11, ',']\n",
    "\n",
    "type_markers = dict(zip(types, markers))"
   ]
  },
  {
   "cell_type": "code",
   "execution_count": 102,
   "metadata": {},
   "outputs": [
    {
     "data": {
      "text/plain": [
       "<matplotlib.legend.Legend at 0x7f1b7d04d080>"
      ]
     },
     "execution_count": 102,
     "metadata": {},
     "output_type": "execute_result"
    },
    {
     "data": {
      "image/png": "[encoded data removed]",
      "text/plain": [
       "<Figure size 1080x432 with 1 Axes>"
      ]
     },
     "metadata": {
      "needs_background": "light"
     },
     "output_type": "display_data"
    }
   ],
   "source": [
    "fig, ax = plt.subplots()\n",
    "for i, (_, (date, t)) in enumerate(df_dk[['Date effective','Type']].iterrows()):\n",
    "    ax.axvline(date, ymax=0.9+i*0.01, marker=type_markers[t], markevery=(1,1), lw=1, c='k', ls=':')\n",
    "\n",
    "    \n",
    "legend_elements = [\n",
    "    plt.Line2D([0], [0], lw=0,marker=type_markers[t], color='k', label=event,\n",
    "           markerfacecolor='k', markersize=10)\n",
    "    for _,(date,t,event) in df_dk[['Date effective','Type','Event']].iterrows()\n",
    "]\n",
    "\n",
    "\n",
    "ax.legend(handles=legend_elements, loc='center', bbox_to_anchor=(0.5, -0.2))"
   ]
  }
 ],
 "metadata": {
  "kernelspec": {
   "display_name": "Python 3",
   "language": "python",
   "name": "python3"
  },
  "language_info": {
   "codemirror_mode": {
    "name": "ipython",
    "version": 3
   },
   "file_extension": ".py",
   "mimetype": "text/x-python",
   "name": "python",
   "nbconvert_exporter": "python",
   "pygments_lexer": "ipython3",
   "version": "3.6.9"
  }
 },
 "nbformat": 4,
 "nbformat_minor": 4
}
