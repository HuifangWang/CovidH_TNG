{
 "cells": [
  {
   "cell_type": "code",
   "execution_count": 21,
   "metadata": {},
   "outputs": [
    {
     "name": "stdout",
     "output_type": "stream",
     "text": [
      "Populating the interactive namespace from numpy and matplotlib\n"
     ]
    }
   ],
   "source": [
    "%pylab inline\n",
    "import stanio; from importlib import reload; reload(stanio)\n",
    "import numpy as np\n",
    "import pylab as pl\n",
    "import pandas as pd\n",
    "import os\n",
    "import datetime"
   ]
  },
  {
   "cell_type": "markdown",
   "metadata": {},
   "source": [
    "## Load data\n",
    "\n",
    "We use processed estimates for Germany here"
   ]
  },
  {
   "cell_type": "code",
   "execution_count": 22,
   "metadata": {},
   "outputs": [
    {
     "data": {
      "text/html": [
       "<div>\n",
       "<style scoped>\n",
       "    .dataframe tbody tr th:only-of-type {\n",
       "        vertical-align: middle;\n",
       "    }\n",
       "\n",
       "    .dataframe tbody tr th {\n",
       "        vertical-align: top;\n",
       "    }\n",
       "\n",
       "    .dataframe thead th {\n",
       "        text-align: right;\n",
       "    }\n",
       "</style>\n",
       "<table border=\"1\" class=\"dataframe\">\n",
       "  <thead>\n",
       "    <tr style=\"text-align: right;\">\n",
       "      <th></th>\n",
       "      <th>date</th>\n",
       "      <th>mean_time_varying_reproduction_number_R(t)</th>\n",
       "      <th>time_varying_reproduction_number_R(t)_lower_CI_95</th>\n",
       "      <th>time_varying_reproduction_number_R(t)_higher_CI_95</th>\n",
       "    </tr>\n",
       "    <tr>\n",
       "      <th>date</th>\n",
       "      <th></th>\n",
       "      <th></th>\n",
       "      <th></th>\n",
       "      <th></th>\n",
       "    </tr>\n",
       "  </thead>\n",
       "  <tbody>\n",
       "    <tr>\n",
       "      <th>0</th>\n",
       "      <td>2020-02-15</td>\n",
       "      <td>4.317265</td>\n",
       "      <td>3.503551</td>\n",
       "      <td>5.435754</td>\n",
       "    </tr>\n",
       "    <tr>\n",
       "      <th>1</th>\n",
       "      <td>2020-02-16</td>\n",
       "      <td>4.317265</td>\n",
       "      <td>3.503551</td>\n",
       "      <td>5.435754</td>\n",
       "    </tr>\n",
       "    <tr>\n",
       "      <th>2</th>\n",
       "      <td>2020-02-17</td>\n",
       "      <td>4.317265</td>\n",
       "      <td>3.503551</td>\n",
       "      <td>5.435754</td>\n",
       "    </tr>\n",
       "    <tr>\n",
       "      <th>3</th>\n",
       "      <td>2020-02-18</td>\n",
       "      <td>4.317265</td>\n",
       "      <td>3.503551</td>\n",
       "      <td>5.435754</td>\n",
       "    </tr>\n",
       "    <tr>\n",
       "      <th>4</th>\n",
       "      <td>2020-02-19</td>\n",
       "      <td>4.317265</td>\n",
       "      <td>3.503551</td>\n",
       "      <td>5.435754</td>\n",
       "    </tr>\n",
       "    <tr>\n",
       "      <th>...</th>\n",
       "      <td>...</td>\n",
       "      <td>...</td>\n",
       "      <td>...</td>\n",
       "      <td>...</td>\n",
       "    </tr>\n",
       "    <tr>\n",
       "      <th>78</th>\n",
       "      <td>2020-05-03</td>\n",
       "      <td>0.752095</td>\n",
       "      <td>0.646568</td>\n",
       "      <td>0.859221</td>\n",
       "    </tr>\n",
       "    <tr>\n",
       "      <th>79</th>\n",
       "      <td>2020-05-04</td>\n",
       "      <td>0.752052</td>\n",
       "      <td>0.646549</td>\n",
       "      <td>0.859133</td>\n",
       "    </tr>\n",
       "    <tr>\n",
       "      <th>80</th>\n",
       "      <td>2020-05-05</td>\n",
       "      <td>0.752010</td>\n",
       "      <td>0.646531</td>\n",
       "      <td>0.859047</td>\n",
       "    </tr>\n",
       "    <tr>\n",
       "      <th>81</th>\n",
       "      <td>2020-05-06</td>\n",
       "      <td>0.751970</td>\n",
       "      <td>0.646515</td>\n",
       "      <td>0.858962</td>\n",
       "    </tr>\n",
       "    <tr>\n",
       "      <th>82</th>\n",
       "      <td>2020-05-07</td>\n",
       "      <td>0.751931</td>\n",
       "      <td>0.646499</td>\n",
       "      <td>0.858880</td>\n",
       "    </tr>\n",
       "  </tbody>\n",
       "</table>\n",
       "<p>83 rows × 4 columns</p>\n",
       "</div>"
      ],
      "text/plain": [
       "           date  mean_time_varying_reproduction_number_R(t)  \\\n",
       "date                                                          \n",
       "0    2020-02-15                                    4.317265   \n",
       "1    2020-02-16                                    4.317265   \n",
       "2    2020-02-17                                    4.317265   \n",
       "3    2020-02-18                                    4.317265   \n",
       "4    2020-02-19                                    4.317265   \n",
       "...         ...                                         ...   \n",
       "78   2020-05-03                                    0.752095   \n",
       "79   2020-05-04                                    0.752052   \n",
       "80   2020-05-05                                    0.752010   \n",
       "81   2020-05-06                                    0.751970   \n",
       "82   2020-05-07                                    0.751931   \n",
       "\n",
       "      time_varying_reproduction_number_R(t)_lower_CI_95  \\\n",
       "date                                                      \n",
       "0                                              3.503551   \n",
       "1                                              3.503551   \n",
       "2                                              3.503551   \n",
       "3                                              3.503551   \n",
       "4                                              3.503551   \n",
       "...                                                 ...   \n",
       "78                                             0.646568   \n",
       "79                                             0.646549   \n",
       "80                                             0.646531   \n",
       "81                                             0.646515   \n",
       "82                                             0.646499   \n",
       "\n",
       "      time_varying_reproduction_number_R(t)_higher_CI_95  \n",
       "date                                                      \n",
       "0                                              5.435754   \n",
       "1                                              5.435754   \n",
       "2                                              5.435754   \n",
       "3                                              5.435754   \n",
       "4                                              5.435754   \n",
       "...                                                 ...   \n",
       "78                                             0.859221   \n",
       "79                                             0.859133   \n",
       "80                                             0.859047   \n",
       "81                                             0.858962   \n",
       "82                                             0.858880   \n",
       "\n",
       "[83 rows x 4 columns]"
      ]
     },
     "execution_count": 22,
     "metadata": {},
     "output_type": "execute_result"
    }
   ],
   "source": [
    "de_sir_csv = '../data/processed/germany_imperial_college_sir.csv'\n",
    "de_sir = pd.read_csv(de_sir_csv, parse_dates=['date'])\n",
    "t0 = datetime.datetime(year=2020, month=2, day=15)\n",
    "de_rci = de_sir.filter(regex='date|time.*repro.*$')\n",
    "de_rci.set_index(de_rci.date, inplace=True)\n",
    "de_rci.set_index((de_rci.index - t0).days, inplace=True)\n",
    "de_rci"
   ]
  },
  {
   "cell_type": "markdown",
   "metadata": {},
   "source": [
    "Looking at reports vs estimates:"
   ]
  },
  {
   "cell_type": "code",
   "execution_count": 23,
   "metadata": {},
   "outputs": [
    {
     "data": {
      "text/plain": [
       "(0.001, 100000.0)"
      ]
     },
     "execution_count": 23,
     "metadata": {},
     "output_type": "execute_result"
    },
    {
     "data": {
      "image/png": "[encoded data removed]",
      "text/plain": [
       "<Figure size 432x288 with 1 Axes>"
      ]
     },
     "metadata": {
      "needs_background": "light"
     },
     "output_type": "display_data"
    }
   ],
   "source": [
    "pl.semilogy(de_sir['reported_cases'])\n",
    "pl.semilogy(de_sir['reported_deaths'])\n",
    "pl.semilogy(de_sir['predicted_infections_lower_CI_95'], 'k--')\n",
    "pl.semilogy(de_sir['predicted_infections_higher_CI_95'], 'k--')\n",
    "pl.semilogy(de_sir['predicted_infections_mean'], 'k')\n",
    "pl.semilogy(de_sir['estimated_deaths_mean'], 'r')\n",
    "pl.semilogy(de_sir['estimated_deaths_lower_CI_95'], 'r--')\n",
    "pl.semilogy(de_sir['estimated_deaths_higher_CI_95'], 'r--')\n",
    "pl.ylim([1e-3, 1e5])"
   ]
  },
  {
   "cell_type": "markdown",
   "metadata": {},
   "source": [
    "we see that the estimates follow death reports closest and assume under reporting by at least an order of magnitude.\n",
    "\n",
    "Next, we assemble a number of reduced datasets, all aligned in time to t=0 at Feb 15th."
   ]
  },
  {
   "cell_type": "code",
   "execution_count": 24,
   "metadata": {},
   "outputs": [],
   "source": [
    "#de_pci = de_sir.filter(regex='date|pred.*infec.*cumulative$|reported_cases$|reported_deaths$')\n",
    "de_pci = de_sir.filter(regex='date|pred.*mean$|pred.*CI_95$|reported_cases$|reported_deaths$')\n",
    "_, krc, kmu, kqlo, kqhi, krd = de_pci.columns\n",
    "assert krd == 'reported_deaths'\n",
    "de_irc = np.r_[de_pci[krc]]\n",
    "de_ird = np.r_[de_pci[krd]]\n",
    "de_imu = np.r_[de_pci[kmu]]\n",
    "de_isd = (np.r_[de_pci[kqhi]] - np.r_[de_pci[kqlo]]) / 4 # 95% is z -1.9 to 1.9\n",
    "\n",
    "_, kmu, kqlo, kqhi = de_rci.columns\n",
    "de_idx = np.r_[de_rci.index]\n",
    "de_rmu = np.r_[de_rci[kmu]]\n",
    "de_rsd = (np.r_[de_rci[kqhi]] - np.r_[de_rci[kqlo]]) / 4\n",
    "\n",
    "de_mob_csv = '../data/processed/germany_google_mobility_report.csv'\n",
    "de_mob = pd.read_csv(de_mob_csv, parse_dates=['date'])\n",
    "de_mob.set_index(de_mob.date, inplace=True)\n",
    "de_mob.set_index((de_mob.index - t0).days, inplace=True)\n",
    "de_mob = de_mob.filter(regex='^retail')\n",
    "de_mobi = de_mob.index\n",
    "de_mobp = np.r_[de_mob][:, 0]/100\n",
    "\n",
    "de_phi_csv = '../data/processed/germany_cosmo_phi.csv'\n",
    "de_phi = pd.read_csv(de_phi_csv, parse_dates=['date'])\n",
    "de_phi.set_index(de_phi.date, inplace=True)\n",
    "de_phi.set_index((de_phi.index - t0).days, inplace=True)\n",
    "de_iphi = de_phi.index\n",
    "de_vphi = np.r_[de_phi][:, 1]"
   ]
  },
  {
   "cell_type": "markdown",
   "metadata": {},
   "source": [
    "Intervention dates are translated to days as follows,"
   ]
  },
  {
   "cell_type": "code",
   "execution_count": 25,
   "metadata": {},
   "outputs": [
    {
     "name": "stdout",
     "output_type": "stream",
     "text": [
      "2020-02-15 00:00:00 is day 0\n",
      "2020-03-06 00:00:00 is day 20\n",
      "2020-03-12 00:00:00 is day 26\n",
      "2020-03-14 00:00:00 is day 28\n",
      "2020-03-22 00:00:00 is day 36\n",
      "2020-05-06 00:00:00 is day 81\n"
     ]
    }
   ],
   "source": [
    "import datetime as dt\n",
    "ts = [\n",
    "    dt.datetime(year=2020, month=2, day=15),\n",
    "    dt.datetime(year=2020, month=3, day=6),\n",
    "    dt.datetime(year=2020, month=3, day=12),\n",
    "    dt.datetime(year=2020, month=3, day=14),\n",
    "    dt.datetime(year=2020, month=3, day=22),\n",
    "    dt.datetime(year=2020, month=5, day=6)\n",
    "    ]\n",
    "t0 = ts[0]\n",
    "for t in ts:\n",
    "    print(t, 'is day', (t - t0).days)"
   ]
  },
  {
   "cell_type": "markdown",
   "metadata": {},
   "source": [
    "These are currently hard codes in the Stan model, but should be easy to pass by data.\n",
    "\n",
    "Then we plot these data"
   ]
  },
  {
   "cell_type": "code",
   "execution_count": 26,
   "metadata": {},
   "outputs": [
    {
     "data": {
      "image/png": "[encoded data removed]",
      "text/plain": [
       "<Figure size 432x288 with 1 Axes>"
      ]
     },
     "metadata": {
      "needs_background": "light"
     },
     "output_type": "display_data"
    }
   ],
   "source": [
    "pl.plot(de_idx, np.log(de_imu), 'go')\n",
    "pl.plot(de_idx, np.log(de_isd), 'gx')\n",
    "# pl.plot(de_idx, np.log(np.cumsum(de_imu)), 'go')\n",
    "pl.plot(de_mobi, de_mobp, 'bo')\n",
    "pl.plot(de_iphi, de_vphi, 'ro')\n",
    "pl.title(\"Data for Germany\")\n",
    "pl.xlabel(\"Days after Feb 15th\")\n",
    "#pl.legend(\"$\\mu_{R0(t)}$ $\\sigma^2_{R0(t)}$ $\\log{\\mu_{I(t)}}$ $\\log{\\sigma^2_{I(t)}}$ $Mobility$ $Cosmo\\phi$\".split(' '))\n",
    "pl.legend(\"$\\log{\\mu_{i(t)}}$ $\\log{\\sigma^2_{i(t)}}$ $Mobility$ $Cosmo\\phi$\".split(' '))\n",
    "pl.grid(1)"
   ]
  },
  {
   "cell_type": "markdown",
   "metadata": {},
   "source": []
  },
  {
   "cell_type": "code",
   "execution_count": 56,
   "metadata": {},
   "outputs": [],
   "source": [
    "data = {\n",
    "    'nii': 20,\n",
    "    'nr': len(de_idx),\n",
    "    'rid': de_idx + 1,\n",
    "    'rmu': de_rmu,\n",
    "    'rsd': de_rsd,\n",
    "    # only loosely constrain I with ICL estimates\n",
    "    'ni': len(de_idx),\n",
    "    'iid': de_idx + 1,\n",
    "    'imu': de_imu,\n",
    "    'isd': de_isd,\n",
    "    'nc': len(de_idx),\n",
    "    'cid': de_idx + 1,\n",
    "    'cases': de_irc.astype('i'),\n",
    "    'nm': len(de_mobi),\n",
    "    'mid': np.r_[de_mobi] + 1,\n",
    "    'mpr': de_mobp,\n",
    "    'np': len(de_iphi),\n",
    "    'pid': np.r_[de_iphi] + 1,\n",
    "    'phi': de_vphi,\n",
    "    'I0': 1e-6,\n",
    "    'eps': 1,\n",
    "    # model comparision params\n",
    "    'mc_use_pse': 1,\n",
    "    'mc_use_groups': 1,\n",
    "    'mc_Gamma_cov': 3.0,\n",
    "    'mc_ind_Gamma': 0,\n",
    "    }\n",
    "init = {\n",
    "    'gamma': 0.1,\n",
    "    'Gamma_': np.r_[1.0, 1.0],\n",
    "    'c': np.r_[0.5,5.0],\n",
    "    'alpha': 0.1,\n",
    "    'J': 1.0,\n",
    "    'ur': -1,\n",
    "}\n",
    "stanio.rdump('model.R', data)\n",
    "stanio.rdump('init.R', init)"
   ]
  },
  {
   "cell_type": "code",
   "execution_count": 28,
   "metadata": {},
   "outputs": [],
   "source": [
    "cs = '/home/duke/Downloads/cmdstan-2.22.1'\n",
    "stanio.compile_model(cs, 'model')"
   ]
  },
  {
   "cell_type": "code",
   "execution_count": 62,
   "metadata": {},
   "outputs": [
    {
     "name": "stdout",
     "output_type": "stream",
     "text": [
      "removed 'fit.csv'\n",
      "make: Entering directory '/home/duke/Downloads/cmdstan-2.22.1'\n",
      "make: '/home/duke/CovidH_TNG/stan/model' is up to date.\n",
      "make: Leaving directory '/home/duke/Downloads/cmdstan-2.22.1'\n",
      "Iteration:    1 / 2000 [  0%]  (Warmup)\n",
      "Iteration:  100 / 2000 [  5%]  (Warmup)\n",
      "Iteration:  200 / 2000 [ 10%]  (Warmup)\n",
      "Iteration:  300 / 2000 [ 15%]  (Warmup)\n",
      "^C\n"
     ]
    }
   ],
   "source": [
    "init = {\n",
    "    'gamma': 0.1,\n",
    "    'Gamma_': np.r_[1.0, 1.0],\n",
    "    'c_': np.r_[0.5,5.0],\n",
    "    'alpha': 0.1,\n",
    "    'J': 0.7,\n",
    "    'ur': -1\n",
    "}\n",
    "stanio.rdump('init.R', init)\n",
    "!rm -fv fit.csv fit.*.csv\n",
    "#stanio.bash(f'./model sample init=init.R data file=model.R output refresh=10 file=fit.csv'), f'failed!'\n",
    "#stanio.diagnose_csvs(cs, 'fit.csv')\n",
    "!make -C ~/Downloads/cmdstan-2.22.1 $PWD/model\n",
    "!./model random seed=1337 sample algorithm=hmc engine=nuts max_depth=20 save_warmup=1 init=init.R data file=model.R output file=fit.csv 2>&1 | grep \"^Iter\"\n",
    "csv = stanio.parse_csv('fit.csv')"
   ]
  },
  {
   "cell_type": "code",
   "execution_count": 58,
   "metadata": {},
   "outputs": [
    {
     "name": "stdout",
     "output_type": "stream",
     "text": [
      "Warning: non-fatal error reading adapation data\n",
      "Warning: non-fatal error reading samples\n",
      "Warning: non-fatal error reading adapation data\n",
      "Warning: non-fatal error reading samples\n",
      "Warning: non-fatal error reading adapation data\n",
      "Warning: non-fatal error reading samples\n",
      "Warning: non-fatal error reading adapation data\n",
      "Warning: non-fatal error reading samples\n",
      "Segmentation fault (core dumped)\n"
     ]
    }
   ],
   "source": [
    "!/home/duke/Downloads/cmdstan-2.22.1/bin/stansummary fit.*.csv | head -n40"
   ]
  },
  {
   "cell_type": "code",
   "execution_count": 48,
   "metadata": {},
   "outputs": [
    {
     "data": {
      "text/plain": [
       "dict_keys(['lp__', 'accept_stat__', 'stepsize__', 'treedepth__', 'n_leapfrog__', 'divergent__', 'energy__', 'c_', 'alpha', 'mpr_a', 'mpr_b', 'phi_a', 'phi_b', 'ur'])"
      ]
     },
     "execution_count": 48,
     "metadata": {},
     "output_type": "execute_result"
    }
   ],
   "source": [
    "draws = np.c_[csv['c_'], csv['alpha'], csv['']]"
   ]
  },
  {
   "cell_type": "code",
   "execution_count": 38,
   "metadata": {},
   "outputs": [
    {
     "ename": "KeyError",
     "evalue": "'pp_imu'",
     "output_type": "error",
     "traceback": [
      "\u001b[0;31m---------------------------------------------------------------------------\u001b[0m",
      "\u001b[0;31mKeyError\u001b[0m                                  Traceback (most recent call last)",
      "\u001b[0;32m<ipython-input-38-183939d4ad99>\u001b[0m in \u001b[0;36m<module>\u001b[0;34m\u001b[0m\n\u001b[0;32m----> 1\u001b[0;31m \u001b[0mimu\u001b[0m \u001b[0;34m=\u001b[0m \u001b[0mcsv\u001b[0m\u001b[0;34m[\u001b[0m\u001b[0;34m'pp_imu'\u001b[0m\u001b[0;34m]\u001b[0m\u001b[0;34m\u001b[0m\u001b[0;34m\u001b[0m\u001b[0m\n\u001b[0m\u001b[1;32m      2\u001b[0m \u001b[0mprc\u001b[0m \u001b[0;34m=\u001b[0m \u001b[0mcsv\u001b[0m\u001b[0;34m[\u001b[0m\u001b[0;34m'pp_cases'\u001b[0m\u001b[0;34m]\u001b[0m\u001b[0;34m\u001b[0m\u001b[0;34m\u001b[0m\u001b[0m\n\u001b[1;32m      3\u001b[0m \u001b[0mpl\u001b[0m\u001b[0;34m.\u001b[0m\u001b[0mfigure\u001b[0m\u001b[0;34m(\u001b[0m\u001b[0;34m)\u001b[0m\u001b[0;34m\u001b[0m\u001b[0;34m\u001b[0m\u001b[0m\n\u001b[1;32m      4\u001b[0m \u001b[0mpl\u001b[0m\u001b[0;34m.\u001b[0m\u001b[0msemilogy\u001b[0m\u001b[0;34m(\u001b[0m\u001b[0mde_idx\u001b[0m\u001b[0;34m,\u001b[0m \u001b[0mde_irc\u001b[0m\u001b[0;34m)\u001b[0m\u001b[0;34m\u001b[0m\u001b[0;34m\u001b[0m\u001b[0m\n\u001b[1;32m      5\u001b[0m \u001b[0mpl\u001b[0m\u001b[0;34m.\u001b[0m\u001b[0msemilogy\u001b[0m\u001b[0;34m(\u001b[0m\u001b[0mde_idx\u001b[0m\u001b[0;34m,\u001b[0m \u001b[0mde_imu\u001b[0m\u001b[0;34m)\u001b[0m\u001b[0;34m\u001b[0m\u001b[0;34m\u001b[0m\u001b[0m\n",
      "\u001b[0;31mKeyError\u001b[0m: 'pp_imu'"
     ]
    }
   ],
   "source": [
    "imu = csv['pp_imu']\n",
    "prc = csv['pp_cases']\n",
    "pl.figure()\n",
    "pl.semilogy(de_idx, de_irc)\n",
    "pl.semilogy(de_idx, de_imu)\n",
    "pl.semilogy(np.percentile(imu,2.5,axis=0), 'k--')\n",
    "pl.semilogy(np.percentile(imu,97.5,axis=0), 'k--')\n",
    "pl.semilogy(np.percentile(imu,2.5,axis=0), 'k--')\n",
    "pl.semilogy(np.percentile(imu,97.5,axis=0), 'k--')\n",
    "pl.legend('icl_reports icl_predicted pp2.5% pp97.5%'.split(' '))\n",
    "pl.title('Daily new infections')"
   ]
  },
  {
   "cell_type": "code",
   "execution_count": null,
   "metadata": {},
   "outputs": [],
   "source": [
    "# pl.savefig('debug.png',dpi=100)\n",
    "# pl.close('all')\n",
    "\n",
    "# pl.figure()\n",
    "# pl.plot(csv['gamma'], csv['alpha'], 'k.')\n",
    "# pl.show()\n",
    "    \n",
    "\n",
    "# import datetime as dt\n",
    "# ts = [\n",
    "#     dt.datetime(year=2020, month=2, day=15),\n",
    "#     dt.datetime(year=2020, month=3, day=6),\n",
    "#     dt.datetime(year=2020, month=3, day=12),\n",
    "#     dt.datetime(year=2020, month=3, day=14),\n",
    "#     dt.datetime(year=2020, month=3, day=22),\n",
    "#     dt.datetime(year=2020, month=5, day=6)\n",
    "#     ]\n",
    "# t0 = ts[0]\n",
    "# for t in ts:\n",
    "#     print(t, 'is day', (t - t0).days)"
   ]
  }
 ],
 "metadata": {
  "kernelspec": {
   "display_name": "Python 3",
   "language": "python",
   "name": "python3"
  },
  "language_info": {
   "codemirror_mode": {
    "name": "ipython",
    "version": 3
   },
   "file_extension": ".py",
   "mimetype": "text/x-python",
   "name": "python",
   "nbconvert_exporter": "python",
   "pygments_lexer": "ipython3",
   "version": "3.6.9"
  }
 },
 "nbformat": 4,
 "nbformat_minor": 4
}
